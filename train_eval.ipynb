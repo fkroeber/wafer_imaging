{
 "cells": [
  {
   "cell_type": "code",
   "execution_count": 1,
   "metadata": {},
   "outputs": [],
   "source": [
    "%load_ext autoreload\n",
    "%autoreload 2"
   ]
  },
  {
   "cell_type": "code",
   "execution_count": 2,
   "metadata": {},
   "outputs": [
    {
     "name": "stderr",
     "output_type": "stream",
     "text": [
      "wandb: Using wandb-core as the SDK backend.  Please refer to https://wandb.me/wandb-core for more information.\n",
      "wandb: Currently logged in as: fkroeber to https://api.wandb.ai. Use `wandb login --relogin` to force relogin\n"
     ]
    },
    {
     "data": {
      "text/html": [
       "Tracking run with wandb version 0.19.9"
      ],
      "text/plain": [
       "<IPython.core.display.HTML object>"
      ]
     },
     "metadata": {},
     "output_type": "display_data"
    },
    {
     "data": {
      "text/html": [
       "Run data is saved locally in <code>results/balanced_run_2025-04-12_14-20-49\\wandb\\run-20250412_142051-acwu6e6h</code>"
      ],
      "text/plain": [
       "<IPython.core.display.HTML object>"
      ]
     },
     "metadata": {},
     "output_type": "display_data"
    },
    {
     "data": {
      "text/html": [
       "Syncing run <strong><a href='https://wandb.ai/fkroeber/wafer/runs/acwu6e6h' target=\"_blank\">true-sunset-43</a></strong> to <a href='https://wandb.ai/fkroeber/wafer' target=\"_blank\">Weights & Biases</a> (<a href='https://wandb.me/developer-guide' target=\"_blank\">docs</a>)<br>"
      ],
      "text/plain": [
       "<IPython.core.display.HTML object>"
      ]
     },
     "metadata": {},
     "output_type": "display_data"
    },
    {
     "data": {
      "text/html": [
       " View project at <a href='https://wandb.ai/fkroeber/wafer' target=\"_blank\">https://wandb.ai/fkroeber/wafer</a>"
      ],
      "text/plain": [
       "<IPython.core.display.HTML object>"
      ]
     },
     "metadata": {},
     "output_type": "display_data"
    },
    {
     "data": {
      "text/html": [
       " View run at <a href='https://wandb.ai/fkroeber/wafer/runs/acwu6e6h' target=\"_blank\">https://wandb.ai/fkroeber/wafer/runs/acwu6e6h</a>"
      ],
      "text/plain": [
       "<IPython.core.display.HTML object>"
      ]
     },
     "metadata": {},
     "output_type": "display_data"
    },
    {
     "name": "stdout",
     "output_type": "stream",
     "text": [
      "Epoch 0/4\n",
      "----------\n",
      "train loss: 0.5881 acc: 0.7065\n",
      "val loss: 0.6522 acc: 0.6591\n",
      "test loss: 0.6709 acc: 0.6061\n",
      "\n",
      "Epoch 1/4\n",
      "----------\n",
      "train loss: 0.4076 acc: 0.8179\n",
      "val loss: 0.5125 acc: 0.7500\n",
      "test loss: 0.8164 acc: 0.7172\n",
      "\n",
      "Epoch 2/4\n",
      "----------\n",
      "train loss: 0.2968 acc: 0.8723\n",
      "val loss: 0.3560 acc: 0.9091\n",
      "test loss: 0.6327 acc: 0.7879\n",
      "\n",
      "Epoch 3/4\n",
      "----------\n",
      "train loss: 0.1463 acc: 0.9484\n",
      "val loss: 0.4597 acc: 0.8636\n",
      "EarlyStopping counter: 1 out of 50\n",
      "test loss: 0.4415 acc: 0.8586\n",
      "\n",
      "Epoch 4/4\n",
      "----------\n",
      "train loss: 0.1458 acc: 0.9538\n",
      "val loss: 0.3802 acc: 0.8182\n",
      "EarlyStopping counter: 2 out of 50\n",
      "test loss: 0.5458 acc: 0.8485\n",
      "\n"
     ]
    },
    {
     "data": {
      "text/html": [],
      "text/plain": [
       "<IPython.core.display.HTML object>"
      ]
     },
     "metadata": {},
     "output_type": "display_data"
    },
    {
     "data": {
      "text/html": [
       "<br>    <style><br>        .wandb-row {<br>            display: flex;<br>            flex-direction: row;<br>            flex-wrap: wrap;<br>            justify-content: flex-start;<br>            width: 100%;<br>        }<br>        .wandb-col {<br>            display: flex;<br>            flex-direction: column;<br>            flex-basis: 100%;<br>            flex: 1;<br>            padding: 10px;<br>        }<br>    </style><br><div class=\"wandb-row\"><div class=\"wandb-col\"><h3>Run history:</h3><br/><table class=\"wandb\"><tr><td>acc_test</td><td>▁▄▆██</td></tr><tr><td>acc_train</td><td>▁▄▆██</td></tr><tr><td>acc_val</td><td>▁▄█▇▅</td></tr><tr><td>loss_test</td><td>▅█▅▁▃</td></tr><tr><td>loss_train</td><td>█▅▃▁▁</td></tr><tr><td>loss_val</td><td>█▅▁▃▂</td></tr></table><br/></div><div class=\"wandb-col\"><h3>Run summary:</h3><br/><table class=\"wandb\"><tr><td>acc_test</td><td>0.84848</td></tr><tr><td>acc_train</td><td>0.9538</td></tr><tr><td>acc_val</td><td>0.81818</td></tr><tr><td>loss_test</td><td>0.54582</td></tr><tr><td>loss_train</td><td>0.14583</td></tr><tr><td>loss_val</td><td>0.38017</td></tr></table><br/></div></div>"
      ],
      "text/plain": [
       "<IPython.core.display.HTML object>"
      ]
     },
     "metadata": {},
     "output_type": "display_data"
    },
    {
     "data": {
      "text/html": [
       " View run <strong style=\"color:#cdcd00\">balanced_run_2025-04-12_14-20-49</strong> at: <a href='https://wandb.ai/fkroeber/wafer/runs/acwu6e6h' target=\"_blank\">https://wandb.ai/fkroeber/wafer/runs/acwu6e6h</a><br> View project at: <a href='https://wandb.ai/fkroeber/wafer' target=\"_blank\">https://wandb.ai/fkroeber/wafer</a><br>Synced 5 W&B file(s), 0 media file(s), 0 artifact file(s) and 0 other file(s)"
      ],
      "text/plain": [
       "<IPython.core.display.HTML object>"
      ]
     },
     "metadata": {},
     "output_type": "display_data"
    },
    {
     "data": {
      "text/html": [
       "Find logs at: <code>results/balanced_run_2025-04-12_14-20-49\\wandb\\run-20250412_142051-acwu6e6h\\logs</code>"
      ],
      "text/plain": [
       "<IPython.core.display.HTML object>"
      ]
     },
     "metadata": {},
     "output_type": "display_data"
    }
   ],
   "source": [
    "import os\n",
    "import shutil\n",
    "from nn.train import Trainer\n",
    "from datetime import datetime\n",
    "\n",
    "run_name = f\"balanced_run_{datetime.now().strftime('%Y-%m-%d_%H-%M-%S')}\"\n",
    "os.makedirs(f\"results\", exist_ok=True)\n",
    "\n",
    "config = dict(\n",
    "    data_path = \"data/FlawDetectionTrainingImages/patches_v1/split_balanced_0.csv\",\n",
    "    model_name = \"convnext\",\n",
    "    train_mode = \"finetune\",\n",
    "    save_path = f\"results/{run_name}\",\n",
    "    batch_size = 16,\n",
    "    max_epochs = 5,\n",
    "    patience = 50,\n",
    "    optimiser = \"Adam\",\n",
    "    loss = \"ce\",\n",
    "    lr = 0.0001,\n",
    "    seed = 42,\n",
    "    wandb_project = \"wafer\",\n",
    "    wandb_runname = run_name,\n",
    ")\n",
    "\n",
    "# train & evaluate model\n",
    "trainer = Trainer(**config)\n",
    "trainer.prep_model()\n",
    "trainer.train_model()"
   ]
  },
  {
   "cell_type": "code",
   "execution_count": 3,
   "metadata": {},
   "outputs": [],
   "source": [
    "### current state & next steps\n",
    "# training runs but...\n",
    "#   with unbalanced set everything get's predicted as 0\n",
    "#   with balanced dataset (simplified problem), training acc reaches expected 100% but...\n",
    "#       val/test acc are rather poor (0.7 for resnet, up to 0.9 for convnext) & val loss <-> acc correlation is rather poor\n",
    "\n",
    "### to be checked/implemented next ###\n",
    "#   run systematic hyperparameter search on large server (lr, bs, architecture, cv_idxs)\n",
    "#   introduce F1 score as more relevant eval metric \n",
    "#   run prediction on images to evaluate which get predicted correctly/falsly -> investigate model errors\n",
    "#   run confident learning (data-centric AI) -> investigate patterns in data"
   ]
  }
 ],
 "metadata": {
  "kernelspec": {
   "display_name": "wafer",
   "language": "python",
   "name": "python3"
  },
  "language_info": {
   "codemirror_mode": {
    "name": "ipython",
    "version": 3
   },
   "file_extension": ".py",
   "mimetype": "text/x-python",
   "name": "python",
   "nbconvert_exporter": "python",
   "pygments_lexer": "ipython3",
   "version": "3.10.1"
  }
 },
 "nbformat": 4,
 "nbformat_minor": 2
}
