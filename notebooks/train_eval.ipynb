{
 "cells": [
  {
   "cell_type": "code",
   "execution_count": 1,
   "metadata": {},
   "outputs": [],
   "source": [
    "%load_ext autoreload\n",
    "%autoreload 2"
   ]
  },
  {
   "cell_type": "code",
   "execution_count": 2,
   "metadata": {},
   "outputs": [],
   "source": [
    "import os\n",
    "import sys\n",
    "\n",
    "sys.path.append(os.path.abspath(os.path.join(os.path.dirname(os.getcwd()))))"
   ]
  },
  {
   "cell_type": "code",
   "execution_count": 3,
   "metadata": {},
   "outputs": [
    {
     "name": "stderr",
     "output_type": "stream",
     "text": [
      "\u001b[34m\u001b[1mwandb\u001b[0m: Using wandb-core as the SDK backend.  Please refer to https://wandb.me/wandb-core for more information.\n",
      "\u001b[34m\u001b[1mwandb\u001b[0m: Currently logged in as: \u001b[33mfkroeber\u001b[0m to \u001b[32mhttps://api.wandb.ai\u001b[0m. Use \u001b[1m`wandb login --relogin`\u001b[0m to force relogin\n"
     ]
    },
    {
     "data": {
      "text/html": [
       "Tracking run with wandb version 0.19.9"
      ],
      "text/plain": [
       "<IPython.core.display.HTML object>"
      ]
     },
     "metadata": {},
     "output_type": "display_data"
    },
    {
     "data": {
      "text/html": [
       "Run data is saved locally in <code>results/test_2025-04-26_02-53-05/wandb/run-20250426_025305-ajwn0wtw</code>"
      ],
      "text/plain": [
       "<IPython.core.display.HTML object>"
      ]
     },
     "metadata": {},
     "output_type": "display_data"
    },
    {
     "data": {
      "text/html": [
       "Syncing run <strong><a href='https://wandb.ai/fkroeber/wafer/runs/ajwn0wtw' target=\"_blank\">solar-hill-905</a></strong> to <a href='https://wandb.ai/fkroeber/wafer' target=\"_blank\">Weights & Biases</a> (<a href='https://wandb.me/developer-guide' target=\"_blank\">docs</a>)<br>"
      ],
      "text/plain": [
       "<IPython.core.display.HTML object>"
      ]
     },
     "metadata": {},
     "output_type": "display_data"
    },
    {
     "data": {
      "text/html": [
       " View project at <a href='https://wandb.ai/fkroeber/wafer' target=\"_blank\">https://wandb.ai/fkroeber/wafer</a>"
      ],
      "text/plain": [
       "<IPython.core.display.HTML object>"
      ]
     },
     "metadata": {},
     "output_type": "display_data"
    },
    {
     "data": {
      "text/html": [
       " View run at <a href='https://wandb.ai/fkroeber/wafer/runs/ajwn0wtw' target=\"_blank\">https://wandb.ai/fkroeber/wafer/runs/ajwn0wtw</a>"
      ],
      "text/plain": [
       "<IPython.core.display.HTML object>"
      ]
     },
     "metadata": {},
     "output_type": "display_data"
    },
    {
     "name": "stdout",
     "output_type": "stream",
     "text": [
      "Epoch 0/4\n",
      "----------\n",
      "train\t loss: 0.6643, acc: 0.6412, auprc: 0.5259, auroc: 0.6037, ece: 0.0914, f1: 0.4255, precision: 0.5556, recall: 0.3448\n",
      "val\t loss: 0.3303, acc: 0.9104, auprc: 0.0798, auroc: 0.8409, ece: 0.2214, f1: 0.0211, precision: 0.0149, recall: 0.0357\n",
      "test\t loss: 0.3273, acc: 0.9229, auprc: 0.0611, auroc: 0.6349, ece: 0.2025, f1: 0.0842, precision: 0.0741, recall: 0.0976\n",
      "\n",
      "Epoch 1/4\n",
      "----------\n",
      "train\t loss: 0.4343, acc: 0.8372, auprc: 0.8390, auroc: 0.8355, ece: 0.0774, f1: 0.7700, precision: 0.8454, recall: 0.7069\n",
      "val\t loss: 0.1841, acc: 0.9721, auprc: 0.6937, auroc: 0.8420, ece: 0.1325, f1: 0.5672, precision: 0.4872, recall: 0.6786\n",
      "test\t loss: 0.1869, acc: 0.9628, auprc: 0.4884, auroc: 0.7407, ece: 0.1096, f1: 0.4474, precision: 0.4857, recall: 0.4146\n",
      "\n",
      "Epoch 2/4\n",
      "----------\n",
      "train\t loss: 0.2879, acc: 0.9169, auprc: 0.9181, auroc: 0.9447, ece: 0.0675, f1: 0.8879, precision: 0.9252, recall: 0.8534\n",
      "val\t loss: 0.1988, acc: 0.9518, auprc: 0.4682, auroc: 0.9773, ece: 0.0713, f1: 0.5000, precision: 0.3472, recall: 0.8929\n",
      "EarlyStopping counter: 1 out of 5\n",
      "test\t loss: 0.1709, acc: 0.9548, auprc: 0.4483, auroc: 0.8659, ece: 0.0442, f1: 0.4848, precision: 0.4138, recall: 0.5854\n",
      "\n",
      "Epoch 3/4\n",
      "----------\n",
      "train\t loss: 0.1622, acc: 0.9468, auprc: 0.9702, auroc: 0.9681, ece: 0.0299, f1: 0.9279, precision: 0.9717, recall: 0.8879\n",
      "val\t loss: 0.3276, acc: 0.9422, auprc: 0.4515, auroc: 0.9829, ece: 0.1189, f1: 0.4828, precision: 0.3182, recall: 1.0000\n",
      "EarlyStopping counter: 2 out of 5\n",
      "test\t loss: 0.2416, acc: 0.9521, auprc: 0.4984, auroc: 0.8772, ece: 0.0869, f1: 0.5091, precision: 0.4058, recall: 0.6829\n",
      "\n",
      "Epoch 4/4\n",
      "----------\n",
      "train\t loss: 0.1569, acc: 0.9502, auprc: 0.9709, auroc: 0.9626, ece: 0.0198, f1: 0.9321, precision: 0.9810, recall: 0.8879\n",
      "val\t loss: 0.6238, acc: 0.9075, auprc: 0.3093, auroc: 0.9702, ece: 0.1559, f1: 0.3684, precision: 0.2258, recall: 1.0000\n",
      "EarlyStopping counter: 3 out of 5\n",
      "test\t loss: 0.4709, acc: 0.9122, auprc: 0.2912, auroc: 0.8929, ece: 0.1278, f1: 0.3613, precision: 0.2456, recall: 0.6829\n",
      "\n"
     ]
    },
    {
     "data": {
      "text/html": [],
      "text/plain": [
       "<IPython.core.display.HTML object>"
      ]
     },
     "metadata": {},
     "output_type": "display_data"
    },
    {
     "data": {
      "text/html": [
       "<br>    <style><br>        .wandb-row {<br>            display: flex;<br>            flex-direction: row;<br>            flex-wrap: wrap;<br>            justify-content: flex-start;<br>            width: 100%;<br>        }<br>        .wandb-col {<br>            display: flex;<br>            flex-direction: column;<br>            flex-basis: 100%;<br>            flex: 1;<br>            padding: 10px;<br>        }<br>    </style><br><div class=\"wandb-row\"><div class=\"wandb-col\"><h3>Run history:</h3><br/><table class=\"wandb\"><tr><td>acc_test</td><td>▂█▇▇▁</td></tr><tr><td>acc_train</td><td>▁▅▇██</td></tr><tr><td>acc_val</td><td>▁█▆▅▁</td></tr><tr><td>auprc_test</td><td>▁█▇█▅</td></tr><tr><td>auprc_train</td><td>▁▆▇██</td></tr><tr><td>auprc_val</td><td>▁█▅▅▄</td></tr><tr><td>auroc_test</td><td>▁▄▇██</td></tr><tr><td>auroc_train</td><td>▁▅███</td></tr><tr><td>auroc_val</td><td>▁▁██▇</td></tr><tr><td>ece_test</td><td>█▄▁▃▅</td></tr><tr><td>ece_train</td><td>█▇▆▂▁</td></tr><tr><td>ece_val</td><td>█▄▁▃▅</td></tr><tr><td>f1_test</td><td>▁▇██▆</td></tr><tr><td>f1_train</td><td>▁▆▇██</td></tr><tr><td>f1_val</td><td>▁█▇▇▅</td></tr><tr><td>loss_test</td><td>▅▁▁▃█</td></tr><tr><td>loss_train</td><td>█▅▃▁▁</td></tr><tr><td>loss_val</td><td>▃▁▁▃█</td></tr><tr><td>precision_test</td><td>▁█▇▇▄</td></tr><tr><td>precision_train</td><td>▁▆▇██</td></tr><tr><td>precision_val</td><td>▁█▆▅▄</td></tr><tr><td>recall_test</td><td>▁▅▇██</td></tr><tr><td>recall_train</td><td>▁▆███</td></tr><tr><td>recall_val</td><td>▁▆▇██</td></tr></table><br/></div><div class=\"wandb-col\"><h3>Run summary:</h3><br/><table class=\"wandb\"><tr><td>acc_test</td><td>0.91223</td></tr><tr><td>acc_train</td><td>0.95017</td></tr><tr><td>acc_val</td><td>0.90751</td></tr><tr><td>auprc_test</td><td>0.29118</td></tr><tr><td>auprc_train</td><td>0.97086</td></tr><tr><td>auprc_val</td><td>0.30926</td></tr><tr><td>auroc_test</td><td>0.8929</td></tr><tr><td>auroc_train</td><td>0.96263</td></tr><tr><td>auroc_val</td><td>0.97016</td></tr><tr><td>ece_test</td><td>0.12778</td></tr><tr><td>ece_train</td><td>0.01984</td></tr><tr><td>ece_val</td><td>0.15586</td></tr><tr><td>f1_test</td><td>0.36129</td></tr><tr><td>f1_train</td><td>0.93213</td></tr><tr><td>f1_val</td><td>0.36842</td></tr><tr><td>loss_test</td><td>0.47093</td></tr><tr><td>loss_train</td><td>0.1569</td></tr><tr><td>loss_val</td><td>0.62376</td></tr><tr><td>precision_test</td><td>0.24561</td></tr><tr><td>precision_train</td><td>0.98095</td></tr><tr><td>precision_val</td><td>0.22581</td></tr><tr><td>recall_test</td><td>0.68293</td></tr><tr><td>recall_train</td><td>0.88793</td></tr><tr><td>recall_val</td><td>1</td></tr></table><br/></div></div>"
      ],
      "text/plain": [
       "<IPython.core.display.HTML object>"
      ]
     },
     "metadata": {},
     "output_type": "display_data"
    },
    {
     "data": {
      "text/html": [
       " View run <strong style=\"color:#cdcd00\">test_2025-04-26_02-53-05</strong> at: <a href='https://wandb.ai/fkroeber/wafer/runs/ajwn0wtw' target=\"_blank\">https://wandb.ai/fkroeber/wafer/runs/ajwn0wtw</a><br> View project at: <a href='https://wandb.ai/fkroeber/wafer' target=\"_blank\">https://wandb.ai/fkroeber/wafer</a><br>Synced 5 W&B file(s), 0 media file(s), 0 artifact file(s) and 0 other file(s)"
      ],
      "text/plain": [
       "<IPython.core.display.HTML object>"
      ]
     },
     "metadata": {},
     "output_type": "display_data"
    },
    {
     "data": {
      "text/html": [
       "Find logs at: <code>results/test_2025-04-26_02-53-05/wandb/run-20250426_025305-ajwn0wtw/logs</code>"
      ],
      "text/plain": [
       "<IPython.core.display.HTML object>"
      ]
     },
     "metadata": {},
     "output_type": "display_data"
    }
   ],
   "source": [
    "import os\n",
    "import shutil\n",
    "from nn.train import Trainer\n",
    "from datetime import datetime\n",
    "\n",
    "run_name = f\"test_{datetime.now().strftime('%Y-%m-%d_%H-%M-%S')}\"\n",
    "os.makedirs(f\"results\", exist_ok=True)\n",
    "\n",
    "config = dict(\n",
    "    data_path = \"../data/FlawDetectionTrainingImages/patches_v1/splits/balance_ratio_1_0.csv\",\n",
    "    model_name = \"convnext\",\n",
    "    train_mode = \"finetune\",\n",
    "    save_path = f\"results/{run_name}\",\n",
    "    batch_size = 8,\n",
    "    max_epochs = 5,\n",
    "    patience = 5,\n",
    "    optimiser = \"Adam\",\n",
    "    loss = \"ce\",\n",
    "    lr = 0.0001,\n",
    "    seed = 42,\n",
    "    wandb_project = \"wafer\",\n",
    "    wandb_runname = run_name,\n",
    "    wandb_tags = [\"test\"],\n",
    ")\n",
    "\n",
    "# train & evaluate model\n",
    "trainer = Trainer(**config)\n",
    "trainer.prep_model()\n",
    "trainer.train_model()"
   ]
  },
  {
   "cell_type": "code",
   "execution_count": null,
   "metadata": {},
   "outputs": [],
   "source": [
    "### evaluation of baseline results ###\n",
    "\n",
    "# to be done\n",
    "    # add plots that evaluate the results\n",
    "\n",
    "# first results descriptions\n",
    "# increasing imbalance with positive class dominance leads to...\n",
    "    # less things get predicted as such (those which are predicted are probably right -> increasing precision, decreasing recall)\n",
    "    # user requirement: prioritise recall over precision (more important to catch errors than missing them)"
   ]
  }
 ],
 "metadata": {
  "kernelspec": {
   "display_name": "wafer",
   "language": "python",
   "name": "python3"
  },
  "language_info": {
   "codemirror_mode": {
    "name": "ipython",
    "version": 3
   },
   "file_extension": ".py",
   "mimetype": "text/x-python",
   "name": "python",
   "nbconvert_exporter": "python",
   "pygments_lexer": "ipython3",
   "version": "3.10.12"
  }
 },
 "nbformat": 4,
 "nbformat_minor": 2
}
