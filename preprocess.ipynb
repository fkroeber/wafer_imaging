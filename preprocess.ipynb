{
 "cells": [
  {
   "cell_type": "code",
   "execution_count": 1,
   "metadata": {},
   "outputs": [],
   "source": [
    "import glob\n",
    "import os\n",
    "import cv2\n",
    "import shutil\n",
    "from empatches import EMPatches\n",
    "from tqdm import tqdm"
   ]
  },
  {
   "cell_type": "code",
   "execution_count": 2,
   "metadata": {},
   "outputs": [],
   "source": [
    "# define input data\n",
    "data_dir = \"data/FlawDetectionTrainingImages\"\n",
    "positive_imgs = glob.glob(os.path.join(data_dir, \"positive\", \"*jpg\"))\n",
    "negative_imgs = glob.glob(os.path.join(data_dir, \"negative\", \"*jpg\"))\n",
    "\n",
    "# define output directories\n",
    "output_dir = \"data/FlawDetectionTrainingImages/patches\"\n",
    "positive_output_dir = os.path.join(output_dir, \"positive\")\n",
    "negative_output_dir = os.path.join(output_dir, \"negative\")"
   ]
  },
  {
   "cell_type": "code",
   "execution_count": 3,
   "metadata": {},
   "outputs": [
    {
     "name": "stderr",
     "output_type": "stream",
     "text": [
      "100%|██████████| 101/101 [00:10<00:00,  9.53it/s]\n"
     ]
    }
   ],
   "source": [
    "# a) split positive images into patches using no overlap\n",
    "\n",
    "# remove existing patches\n",
    "shutil.rmtree(positive_output_dir, ignore_errors=True)\n",
    "os.makedirs(positive_output_dir, exist_ok=True)\n",
    "\n",
    "# patch new ones\n",
    "n_img = 0\n",
    "for img_path in tqdm(positive_imgs):\n",
    "    img = cv2.imread(img_path)\n",
    "    emp = EMPatches()\n",
    "    img_patches, indices = emp.extract_patches(img, patchsize=256, overlap=0)\n",
    "    for i, patch in enumerate(img_patches):\n",
    "        cv2.imwrite(os.path.join(positive_output_dir, f\"{n_img}.jpg\"), patch)\n",
    "        n_img += 1"
   ]
  },
  {
   "cell_type": "code",
   "execution_count": 4,
   "metadata": {},
   "outputs": [
    {
     "name": "stderr",
     "output_type": "stream",
     "text": [
      "100%|██████████| 36/36 [01:15<00:00,  2.11s/it]\n"
     ]
    }
   ],
   "source": [
    "# b) split negative images into patches using larger overlap\n",
    "# indicate original position in image\n",
    "import matplotlib.pyplot as plt\n",
    "import numpy as np\n",
    "import matplotlib.patches as patches\n",
    "\n",
    "# remove existing patches\n",
    "shutil.rmtree(negative_output_dir, ignore_errors=True)\n",
    "os.makedirs(negative_output_dir, exist_ok=True)\n",
    "shutil.rmtree(os.path.join(negative_output_dir, \"overviews\"), ignore_errors=True)\n",
    "os.makedirs(os.path.join(negative_output_dir, \"overviews\"), exist_ok=True)\n",
    "\n",
    "# patch new ones\n",
    "n_patch = 0\n",
    "for img_path in tqdm(negative_imgs):\n",
    "    img = cv2.imread(img_path)\n",
    "    img_stem = os.path.split(img_path)[-1].split(\".jpg\")[0]\n",
    "    emp = EMPatches()\n",
    "    img_patches, indices = emp.extract_patches(img, patchsize=256, overlap=0.5)\n",
    "    # patch\n",
    "    for i, patch in enumerate(img_patches):\n",
    "        out_path = f\"{img_stem}_{n_patch}.jpg\"\n",
    "        cv2.imwrite(os.path.join(negative_output_dir, out_path), patch)\n",
    "        n_patch += 1\n",
    "    # plot overview\n",
    "    fig, axs = plt.subplots(1, 1, figsize=(10, 10))\n",
    "    axs.imshow(np.flip(img, 2))\n",
    "    for i, idxs in enumerate(indices):\n",
    "        rect = patches.Rectangle(\n",
    "            (idxs[2], idxs[0]),\n",
    "            256,\n",
    "            256,\n",
    "            linewidth=1,\n",
    "            edgecolor='lightblue',\n",
    "            facecolor='none'\n",
    "        )\n",
    "        axs.add_patch(rect)\n",
    "        # add label\n",
    "        axs.text(\n",
    "            idxs[2] + 128,\n",
    "            idxs[0] + 128,\n",
    "            str(i),\n",
    "            color='blue',\n",
    "            horizontalalignment='center',\n",
    "            verticalalignment='center',\n",
    "            fontsize=6,\n",
    "        )\n",
    "    axs.set_axis_off()\n",
    "    fig.savefig(\n",
    "        os.path.join(os.path.join(negative_output_dir, \"overviews\"), f\"{img_stem}.jpg\"),\n",
    "        bbox_inches='tight',\n",
    "        dpi=600,\n",
    "    )\n",
    "    plt.close(fig)\n",
    "    n_patch = 0"
   ]
  }
 ],
 "metadata": {
  "kernelspec": {
   "display_name": "wafer",
   "language": "python",
   "name": "python3"
  },
  "language_info": {
   "codemirror_mode": {
    "name": "ipython",
    "version": 3
   },
   "file_extension": ".py",
   "mimetype": "text/x-python",
   "name": "python",
   "nbconvert_exporter": "python",
   "pygments_lexer": "ipython3",
   "version": "3.10.1"
  }
 },
 "nbformat": 4,
 "nbformat_minor": 2
}
